{
 "cells": [
  {
   "cell_type": "code",
   "execution_count": 5,
   "metadata": {},
   "outputs": [
    {
     "name": "stdout",
     "output_type": "stream",
     "text": [
      "mod1\n"
     ]
    }
   ],
   "source": [
    "import package1.mod1"
   ]
  },
  {
   "cell_type": "code",
   "execution_count": 6,
   "metadata": {},
   "outputs": [
    {
     "name": "stdout",
     "output_type": "stream",
     "text": [
      "mod2\n"
     ]
    }
   ],
   "source": [
    "import package1.mod2"
   ]
  },
  {
   "cell_type": "code",
   "execution_count": 7,
   "metadata": {},
   "outputs": [
    {
     "data": {
      "text/plain": [
       "10"
      ]
     },
     "execution_count": 7,
     "metadata": {},
     "output_type": "execute_result"
    }
   ],
   "source": [
    "package1.mod1.plus(7, 3)"
   ]
  },
  {
   "cell_type": "code",
   "execution_count": 8,
   "metadata": {},
   "outputs": [],
   "source": [
    "from package1.mod1 import plus"
   ]
  },
  {
   "cell_type": "code",
   "execution_count": 9,
   "metadata": {},
   "outputs": [
    {
     "data": {
      "text/plain": [
       "3"
      ]
     },
     "execution_count": 9,
     "metadata": {},
     "output_type": "execute_result"
    }
   ],
   "source": [
    "plus(1,2)"
   ]
  },
  {
   "cell_type": "markdown",
   "metadata": {},
   "source": [
    "age package tanharo import knim hich kari nmitune baramun kone va module haro nmitune biare"
   ]
  },
  {
   "cell_type": "markdown",
   "metadata": {},
   "source": [
    "akkharin zir shakhe ee k import mishe b namespace add mishe"
   ]
  },
  {
   "cell_type": "markdown",
   "metadata": {},
   "source": [
    "ye chize jalebi k package dare ine k mitunim vaghti k package call mishe ye dastoor run she va ya module haro tu un import knim k vaghti package be tanhayi call mishe module hasham call shan ba sakhtne ye file __init__.py tu folder package"
   ]
  },
  {
   "cell_type": "code",
   "execution_count": null,
   "metadata": {},
   "outputs": [
    {
     "name": "stdout",
     "output_type": "stream",
     "text": [
      "mod1\n",
      "__init__.py loaded\n"
     ]
    }
   ],
   "source": [
    "import package1"
   ]
  },
  {
   "cell_type": "markdown",
   "metadata": {},
   "source": [
    "ye nokte jaleb baraye:\n",
    "from module import *\n",
    "or\n",
    "from package import *\n",
    "darim k tu in mavared ye method __all__ call mishe tu hardo k tu module __all__ = [tamamie variable hao functiono class hast]\n",
    "vali tu package __all__ = [] hast\n",
    "k khodemun mitunim ino taghir bdim masalan vaghti mikhaim ye module ro import * konim mitunim begim baziasho import kn na hamero va vase inkar mirim tu module va minevisim\n",
    "__all__ = ['class','function','var']\n",
    "baraye package hm bayad hamino tu file __init__.py tarif knim"
   ]
  },
  {
   "cell_type": "markdown",
   "metadata": {},
   "source": [
    "age _var esme variavle ba _ shuru she yani private variable va ba import * ham import nmisheo bayad explicit callesh knim"
   ]
  },
  {
   "cell_type": "markdown",
   "metadata": {},
   "source": [
    "un chizi k edamaye import miad b namespace ezafe misheo bayad neveshte she masalan in 2 ta yekian ama seda zadaneshun injurie:\n",
    "1: from pk.subpk.mod import zarb\n",
    "callesh: zarb()\n",
    "2: import pk.subpk.mod\n",
    "callesh: pk.subpk.mod.zarb()"
   ]
  },
  {
   "cell_type": "markdown",
   "metadata": {},
   "source": [
    "mitunim adres bdim vase importa masalan:\n",
    "from .package1 import module1(current directory)\n",
    "form ..package1 import module1(parent directory)\n",
    "\\ nadareo serfan ba dot hast"
   ]
  },
  {
   "cell_type": "markdown",
   "metadata": {},
   "source": [
    "agar ye module import krdimo errore not found dad 2 ta kar miknim vase debug:\n",
    "1: import sys va checke dir ha tu sys.path\n",
    "2: checke location module k mikhune az module.__file__"
   ]
  }
 ],
 "metadata": {
  "kernelspec": {
   "display_name": "Python 3",
   "language": "python",
   "name": "python3"
  },
  "language_info": {
   "codemirror_mode": {
    "name": "ipython",
    "version": 3
   },
   "file_extension": ".py",
   "mimetype": "text/x-python",
   "name": "python",
   "nbconvert_exporter": "python",
   "pygments_lexer": "ipython3",
   "version": "3.12.6"
  }
 },
 "nbformat": 4,
 "nbformat_minor": 2
}
