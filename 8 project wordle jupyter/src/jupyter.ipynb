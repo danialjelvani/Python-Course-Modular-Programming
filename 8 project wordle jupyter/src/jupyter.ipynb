{
 "cells": [
  {
   "cell_type": "code",
   "execution_count": 1,
   "metadata": {},
   "outputs": [],
   "source": [
    "from termcolor import colored"
   ]
  },
  {
   "cell_type": "markdown",
   "metadata": {},
   "source": [
    "Build Data"
   ]
  },
  {
   "cell_type": "code",
   "execution_count": 2,
   "metadata": {},
   "outputs": [],
   "source": [
    "def generate_words(word_len: int=5, limittopwords: int=10000):\n",
    "\n",
    "    # build data:\n",
    "    words = []\n",
    "    file_dir = './data/words_frequency.txt'\n",
    "    with open(file_dir) as f:\n",
    "        for line in f:\n",
    "            word, frequency = line.split(', ')\n",
    "            frequency = int(frequency)\n",
    "            words.append((word.upper(), frequency))\n",
    "\n",
    "    # sort date:\n",
    "    words = sorted(words, key=lambda w: w[1], reverse= True)\n",
    "\n",
    "    # limit top words:\n",
    "    words = words[:limittopwords]\n",
    "\n",
    "    # filter data:\n",
    "    # 5 harfiha\n",
    "    words = list(filter(lambda w: len(w[0]) == word_len, words))\n",
    "\n",
    "    # delete frequencies:\n",
    "    words = [w[0] for w in words]\n",
    "\n",
    "    return words"
   ]
  },
  {
   "cell_type": "markdown",
   "metadata": {},
   "source": [
    "Random Word Selection"
   ]
  },
  {
   "cell_type": "code",
   "execution_count": 3,
   "metadata": {},
   "outputs": [],
   "source": [
    "words = generate_words()"
   ]
  },
  {
   "cell_type": "code",
   "execution_count": 4,
   "metadata": {},
   "outputs": [],
   "source": [
    "import random\n",
    "# random.seed() tarif krdn baes mishe\n",
    "# hamishe ye tavalio bere masalan vase inke\n",
    "# bazia moshabeh bashan vase afrad\n",
    "random.seed(42)\n",
    "x = random.randint(0,len(words)-1)\n",
    "selected_word = words[x]\n",
    "selected_word = selected_word.upper()\n",
    "# az in ham mishe estefade krd rahat\n",
    "# taram hast: random.choice(words)"
   ]
  },
  {
   "cell_type": "markdown",
   "metadata": {},
   "source": [
    "Colored Text"
   ]
  },
  {
   "cell_type": "code",
   "execution_count": 5,
   "metadata": {},
   "outputs": [],
   "source": [
    "def print_success(text):\n",
    "    print(colored(text, 'green', 'on_black'), end='')\n",
    "\n",
    "def print_warning(text):\n",
    "    print(colored(text, 'yellow', 'on_black'), end='')\n",
    "\n",
    "def print_error(text):\n",
    "    print(colored(text, 'red', 'on_black'), end='')\n",
    "\n",
    "def print_grey(text):\n",
    "    print(colored(text, 'light_grey', 'on_black'), end='')"
   ]
  },
  {
   "cell_type": "markdown",
   "metadata": {},
   "source": [
    "Wordle"
   ]
  },
  {
   "cell_type": "code",
   "execution_count": 6,
   "metadata": {},
   "outputs": [
    {
     "name": "stdout",
     "output_type": "stream",
     "text": [
      "\u001b[40m\u001b[33mA\u001b[0m\u001b[40m\u001b[31mP\u001b[0m\u001b[40m\u001b[31mP\u001b[0m\u001b[40m\u001b[33mL\u001b[0m\u001b[40m\u001b[32mE\u001b[0m\n",
      "\u001b[40m\u001b[33mA\u001b[0m\u001b[40m\u001b[31mP\u001b[0m\u001b[40m\u001b[31mP\u001b[0m\u001b[40m\u001b[33mL\u001b[0m\u001b[40m\u001b[32mE\u001b[0m\n",
      "\u001b[40m\u001b[32mL\u001b[0m\u001b[40m\u001b[32mA\u001b[0m\u001b[40m\u001b[32mN\u001b[0m\u001b[40m\u001b[31mD\u001b[0m\u001b[40m\u001b[31mS\u001b[0m\n",
      "\u001b[40m\u001b[32mL\u001b[0m\u001b[40m\u001b[32mA\u001b[0m\u001b[40m\u001b[32mN\u001b[0m\u001b[40m\u001b[31mD\u001b[0m\u001b[40m\u001b[31mS\u001b[0m\n",
      "\u001b[40m\u001b[32mL\u001b[0m\u001b[40m\u001b[32mA\u001b[0m\u001b[40m\u001b[32mN\u001b[0m\u001b[40m\u001b[31mD\u001b[0m\u001b[40m\u001b[31mS\u001b[0m\n",
      "\u001b[40m\u001b[31mYou Failed! The word was LANCE\u001b[0m"
     ]
    }
   ],
   "source": [
    "# valid_char\n",
    "# invalid_position\n",
    "# invalid_char\n",
    "\n",
    "num_try = 6\n",
    "word_len = 5\n",
    "success = False\n",
    "\n",
    "while num_try:\n",
    "    guess_word = input(f'Enter a {word_len} letter word (or q to exit): ').upper()\n",
    "    if guess_word == 'Q':\n",
    "        break\n",
    "\n",
    "    # word length\n",
    "    if len(guess_word) != word_len:\n",
    "        print(f'word must have {word_len} letters')\n",
    "        continue\n",
    "        # vaghti continue mishe dg nmiad payin k \n",
    "        # bekhad ye count hesab she\n",
    "\n",
    "    # check if grey\n",
    "    if guess_word not in words:\n",
    "        print_grey('input is not a word')\n",
    "        continue\n",
    "\n",
    "    # check wordle\n",
    "    for gw, sw in zip(guess_word, selected_word):\n",
    "        if gw == sw:\n",
    "            print_success(gw)\n",
    "        elif gw in selected_word:\n",
    "            print_warning(gw)\n",
    "        else:\n",
    "            print_error(gw)\n",
    "    if guess_word == selected_word:\n",
    "            print(colored('\\nCongratulations!', 'blue', attrs=['bold', 'blink']))\n",
    "            success = True\n",
    "            break\n",
    "    print()\n",
    "    num_try -= 1\n",
    "if not success:\n",
    "    print_error(f'You Failed! The word was {selected_word}')"
   ]
  }
 ],
 "metadata": {
  "kernelspec": {
   "display_name": "Python 3",
   "language": "python",
   "name": "python3"
  },
  "language_info": {
   "codemirror_mode": {
    "name": "ipython",
    "version": 3
   },
   "file_extension": ".py",
   "mimetype": "text/x-python",
   "name": "python",
   "nbconvert_exporter": "python",
   "pygments_lexer": "ipython3",
   "version": "3.12.6"
  }
 },
 "nbformat": 4,
 "nbformat_minor": 2
}
